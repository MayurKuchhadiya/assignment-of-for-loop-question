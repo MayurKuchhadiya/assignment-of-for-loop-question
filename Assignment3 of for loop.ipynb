{
 "cells": [
  {
   "cell_type": "markdown",
   "id": "96ee8aa9-9abf-46cc-8ff7-f0df11f970d8",
   "metadata": {},
   "source": [
    "                                For Loop Assignment"
   ]
  },
  {
   "cell_type": "markdown",
   "id": "915fa058-5ff3-44db-a01a-44188ba4cc29",
   "metadata": {},
   "source": [
    "1. Write a Python program to print the numbers from 1 to 10 using a `for` loop."
   ]
  },
  {
   "cell_type": "code",
   "execution_count": 3,
   "id": "46d0d052-b4f3-4703-9cd5-24fff2094df3",
   "metadata": {},
   "outputs": [
    {
     "name": "stdout",
     "output_type": "stream",
     "text": [
      "0 1 2 3 4 5 6 7 8 9 10 "
     ]
    }
   ],
   "source": [
    "for i in range(11):\n",
    "    print(i,end=' ')"
   ]
  },
  {
   "cell_type": "markdown",
   "id": "608ea970-a51c-4b39-b016-efd54b7bee69",
   "metadata": {},
   "source": [
    "2. Create a program that calculates the sum of all numbers in a list using a `for` loop."
   ]
  },
  {
   "cell_type": "code",
   "execution_count": 26,
   "id": "dd200af2-3476-49cb-a5d1-d4dfd6567ded",
   "metadata": {},
   "outputs": [
    {
     "name": "stdout",
     "output_type": "stream",
     "text": [
      "21\n"
     ]
    }
   ],
   "source": [
    "l=[1,2,3,4,5,6]\n",
    "\n",
    "total=0\n",
    "for i in l:\n",
    "     total+=i\n",
    "print(total)"
   ]
  },
  {
   "cell_type": "markdown",
   "id": "24ac8d5e-ac59-4777-b65d-ab8ac2d11761",
   "metadata": {},
   "source": [
    "3. Write a program to print the characters of a string in reverse order using a `for` loop."
   ]
  },
  {
   "cell_type": "code",
   "execution_count": 6,
   "id": "77f8b617-bf42-4111-a94a-ba9e2ec730c7",
   "metadata": {},
   "outputs": [
    {
     "name": "stdout",
     "output_type": "stream",
     "text": [
      " r\n",
      " u\n",
      " y\n",
      " a\n",
      " m\n",
      "  \n",
      " s\n",
      " i\n",
      "  \n",
      " e\n",
      " m\n",
      " a\n",
      " n\n",
      "  \n",
      " y\n",
      " m\n"
     ]
    }
   ],
   "source": [
    "string=('my name is mayur')\n",
    "\n",
    "for i in string[::-1]:\n",
    "    print('',i)"
   ]
  },
  {
   "cell_type": "markdown",
   "id": "910fe256-65bd-4fc9-ae4a-609facd13cd8",
   "metadata": {},
   "source": [
    "4. Develop a program that finds the factorial of a given number using a `for` loop."
   ]
  },
  {
   "cell_type": "code",
   "execution_count": 34,
   "id": "32089215-6ab3-44f7-9bed-a62f3aa82e11",
   "metadata": {},
   "outputs": [
    {
     "name": "stdin",
     "output_type": "stream",
     "text": [
      "enter a number 5\n"
     ]
    },
    {
     "name": "stdout",
     "output_type": "stream",
     "text": [
      "factorial of number is: 120\n"
     ]
    }
   ],
   "source": [
    "number=int(input('enter a number'))\n",
    "factorial=1\n",
    "for i in range(1,number+1):\n",
    "    factorial*=i\n",
    "print('factorial of number is:',factorial)"
   ]
  },
  {
   "cell_type": "markdown",
   "id": "793b0eeb-7094-4be7-a330-d7896d2060f7",
   "metadata": {},
   "source": [
    "5. Create a program to print the multiplication table of a given number using a `for` loop."
   ]
  },
  {
   "cell_type": "code",
   "execution_count": 44,
   "id": "36e14813-9833-4e20-b0a5-c4592504cc61",
   "metadata": {},
   "outputs": [
    {
     "name": "stdin",
     "output_type": "stream",
     "text": [
      "enter a number 5\n"
     ]
    },
    {
     "name": "stdout",
     "output_type": "stream",
     "text": [
      "5 * 1 = 5\n",
      "5 * 2 = 10\n",
      "5 * 3 = 15\n",
      "5 * 4 = 20\n",
      "5 * 5 = 25\n",
      "5 * 6 = 30\n",
      "5 * 7 = 35\n",
      "5 * 8 = 40\n",
      "5 * 9 = 45\n",
      "5 * 10 = 50\n"
     ]
    }
   ],
   "source": [
    "number=int(input('enter a number'))\n",
    "\n",
    "for i in range(1,11):\n",
    "    print(number,'*',i,'=',i*number)\n",
    "    "
   ]
  },
  {
   "cell_type": "markdown",
   "id": "07138e56-a15f-4c9c-987f-19ec899131b8",
   "metadata": {},
   "source": [
    "6. Write a program that counts the number of even and odd numbers in a list using a `for` loop."
   ]
  },
  {
   "cell_type": "code",
   "execution_count": 48,
   "id": "5cd2e6ec-226d-4424-a622-37196d4b201c",
   "metadata": {},
   "outputs": [
    {
     "name": "stdout",
     "output_type": "stream",
     "text": [
      "total even number: 3\n",
      "total odd number: 5\n"
     ]
    }
   ],
   "source": [
    "x=[1,2,5,10,20,31,3,7]\n",
    "\n",
    "count_even=0\n",
    "count_odd=0\n",
    "for i in x:\n",
    "    if i%2==0:\n",
    "        count_even+=1\n",
    "    else:\n",
    "        count_odd+=1\n",
    "print('total even number:',count_even)\n",
    "print('total odd number:',count_odd)"
   ]
  },
  {
   "cell_type": "markdown",
   "id": "df7593c8-06b0-4ba8-88de-61f077a039c8",
   "metadata": {},
   "source": [
    "7. Develop a program that prints the squares of numbers from 1 to 5 using a `for` loop."
   ]
  },
  {
   "cell_type": "code",
   "execution_count": 49,
   "id": "2c9b385e-afc3-4d5c-8f97-0802f569270c",
   "metadata": {},
   "outputs": [
    {
     "name": "stdout",
     "output_type": "stream",
     "text": [
      "1\n",
      "4\n",
      "9\n",
      "16\n",
      "25\n"
     ]
    }
   ],
   "source": [
    "for i in range(1,6):\n",
    "    print(i*i)"
   ]
  },
  {
   "cell_type": "markdown",
   "id": "e4feac63-2e1e-4491-80d9-17bd577b4b0c",
   "metadata": {},
   "source": [
    "8. Create a program to find the length of a string without using the `len()` function."
   ]
  },
  {
   "cell_type": "code",
   "execution_count": 50,
   "id": "97c045a2-b090-4c0b-8f81-66cd1ca19a47",
   "metadata": {},
   "outputs": [
    {
     "name": "stdin",
     "output_type": "stream",
     "text": [
      "enter a string mayur\n"
     ]
    },
    {
     "name": "stdout",
     "output_type": "stream",
     "text": [
      "length of string: 5\n"
     ]
    }
   ],
   "source": [
    "string=input('enter a string')\n",
    "length=0\n",
    "for i in string:\n",
    "    length+=1\n",
    "print('length of string:',length)\n",
    "    "
   ]
  },
  {
   "cell_type": "markdown",
   "id": "1bd97cc3-8fdf-4f57-93b2-64f90c84b45e",
   "metadata": {},
   "source": [
    "9. Write a program that calculates the average of a list of numbers using a `for` loop."
   ]
  },
  {
   "cell_type": "code",
   "execution_count": 54,
   "id": "e740ae6f-0df9-42bb-ac9e-be42dd45636d",
   "metadata": {},
   "outputs": [
    {
     "name": "stdout",
     "output_type": "stream",
     "text": [
      "average of number is: 5.0\n"
     ]
    }
   ],
   "source": [
    "number=[1,2,3,4]\n",
    "\n",
    "count=0\n",
    "for i in number:\n",
    "    count+=i\n",
    "average=count/2\n",
    "print('average of number is:',average)\n",
    "    "
   ]
  },
  {
   "cell_type": "markdown",
   "id": "00387973-a4e2-4e46-a72b-86fd769a7448",
   "metadata": {},
   "source": [
    "10. Develop a program that prints the first `n` Fibonacci numbers using a `for` loop."
   ]
  },
  {
   "cell_type": "code",
   "execution_count": 1,
   "id": "eb534a15-0b62-416b-b27a-b3f6e90f7623",
   "metadata": {},
   "outputs": [
    {
     "name": "stdout",
     "output_type": "stream",
     "text": [
      "0\n",
      "1\n",
      "1\n",
      "2\n",
      "3\n",
      "5\n",
      "8\n",
      "13\n",
      "21\n"
     ]
    }
   ],
   "source": [
    "def fib(n):\n",
    "    a,b=0,1\n",
    "    for i in range(n):\n",
    "        yield a\n",
    "        a,b=b,a+b\n",
    "        \n",
    "for i in fib(9):\n",
    "    print(i)"
   ]
  },
  {
   "cell_type": "markdown",
   "id": "e331127e-2fb0-471b-9a30-562ff7da3eb7",
   "metadata": {},
   "source": [
    "11. Write a program to check if a given list contains any duplicates using a `for` loop."
   ]
  },
  {
   "cell_type": "code",
   "execution_count": 20,
   "id": "ccd23960-8630-41c4-86a8-e1226ecc74cf",
   "metadata": {},
   "outputs": [
    {
     "name": "stdout",
     "output_type": "stream",
     "text": [
      "Yes, list contains duplicates\n"
     ]
    }
   ],
   "source": [
    "def checkIfDuplicates_2(listOfElems):\n",
    "       \n",
    "    setOfElems = set()\n",
    "    for elem in listOfElems:\n",
    "        if elem in setOfElems:\n",
    "            return True\n",
    "        else:\n",
    "            setOfElems.add(elem)         \n",
    "    return False\n",
    "\n",
    "listOfElems = ['Hello', 'Ok', 'is', 'Ok', 'test', 'this', 'is', 'a', 'test']\n",
    "\n",
    "result = checkIfDuplicates_2(listOfElems)\n",
    "\n",
    "if result:\n",
    "    print('Yes, list contains duplicates')\n",
    "else:\n",
    "    print('No duplicates found in list')    "
   ]
  },
  {
   "cell_type": "markdown",
   "id": "67635f15-aaae-4f9a-89ff-9ad1219132b4",
   "metadata": {},
   "source": [
    "12. Create a program that prints the prime numbers in a given range using a `for` loop."
   ]
  },
  {
   "cell_type": "code",
   "execution_count": 4,
   "id": "afca0608-9423-4725-bd33-2dbc6a8076c8",
   "metadata": {},
   "outputs": [
    {
     "name": "stdout",
     "output_type": "stream",
     "text": [
      "Prime numbers between 10 and 50 are:\n",
      "11\n",
      "13\n",
      "17\n",
      "19\n",
      "23\n",
      "29\n",
      "31\n",
      "37\n",
      "41\n",
      "43\n",
      "47\n"
     ]
    }
   ],
   "source": [
    "lower = 10\n",
    "upper = 50\n",
    "\n",
    "print(\"Prime numbers between\", lower, \"and\", upper, \"are:\")\n",
    "\n",
    "for num in range(lower, upper + 1):\n",
    "   \n",
    "   if num > 1:\n",
    "       for i in range(2, num):\n",
    "           if (num % i) == 0:\n",
    "               break\n",
    "       else:\n",
    "           print(num)"
   ]
  },
  {
   "cell_type": "markdown",
   "id": "84fc0f12-1645-4391-8b1a-c1e7fd228c98",
   "metadata": {},
   "source": [
    "13. Develop a program that counts the number of vowels in a string using a `for` loop"
   ]
  },
  {
   "cell_type": "code",
   "execution_count": 8,
   "id": "5e6ef63b-da1a-4042-a397-c217bf3299aa",
   "metadata": {},
   "outputs": [
    {
     "name": "stdin",
     "output_type": "stream",
     "text": [
      "enter a string Mayur Kuchhadiya\n"
     ]
    },
    {
     "name": "stdout",
     "output_type": "stream",
     "text": [
      "total number of vowel in string=  6\n"
     ]
    }
   ],
   "source": [
    "inp=input('enter a string')\n",
    "lis=['a','e','i','o','u','A','E','I','O','U']\n",
    "count=0\n",
    "for char in inp:\n",
    "    if char in lis:\n",
    "        count+=1\n",
    "print('total number of vowel in string= ',count)"
   ]
  },
  {
   "cell_type": "markdown",
   "id": "d7992ca1-cfb2-4f9e-b4c4-7a594918600f",
   "metadata": {},
   "source": [
    "14. Write a program to find the maximum element in a 2D list using a nested `for` loop."
   ]
  },
  {
   "cell_type": "code",
   "execution_count": 13,
   "id": "72369d82-c677-4a12-87ff-31332e641fef",
   "metadata": {},
   "outputs": [
    {
     "ename": "TypeError",
     "evalue": "'int' object is not iterable",
     "output_type": "error",
     "traceback": [
      "\u001b[0;31m---------------------------------------------------------------------------\u001b[0m",
      "\u001b[0;31mTypeError\u001b[0m                                 Traceback (most recent call last)",
      "Cell \u001b[0;32mIn[13], line 5\u001b[0m\n\u001b[1;32m      3\u001b[0m \u001b[38;5;28;01mfor\u001b[39;00m i \u001b[38;5;129;01min\u001b[39;00m lis:\n\u001b[1;32m      4\u001b[0m     \u001b[38;5;28;01mfor\u001b[39;00m j \u001b[38;5;129;01min\u001b[39;00m i:\n\u001b[0;32m----> 5\u001b[0m         lis1\u001b[38;5;241m.\u001b[39mappend(\u001b[38;5;28;43mmax\u001b[39;49m\u001b[43m(\u001b[49m\u001b[43mj\u001b[49m\u001b[43m)\u001b[49m)\n\u001b[1;32m      6\u001b[0m \u001b[38;5;28mprint\u001b[39m(lis1)\n",
      "\u001b[0;31mTypeError\u001b[0m: 'int' object is not iterable"
     ]
    }
   ],
   "source": [
    "lis=[[1,2,3],[1,3,4]]\n",
    "lis1=[]\n",
    "for i in lis:\n",
    "    for j in i:\n",
    "        lis1.append(max(j))\n",
    "print(lis1)\n",
    "        "
   ]
  },
  {
   "cell_type": "markdown",
   "id": "a592ea48-b3a9-496c-9e77-2a04ebf692b4",
   "metadata": {},
   "source": [
    "15. Create a program that removes all occurrences of a specific element from a list using a `for` loop."
   ]
  },
  {
   "cell_type": "code",
   "execution_count": 25,
   "id": "cbfc4d9b-05e0-4c80-aab4-2696d6639eae",
   "metadata": {},
   "outputs": [
    {
     "data": {
      "text/plain": [
       "[2, 3, 4, 5]"
      ]
     },
     "execution_count": 25,
     "metadata": {},
     "output_type": "execute_result"
    }
   ],
   "source": [
    "def remove_item(test_list,item):\n",
    "    \n",
    "    res=[i for i in test_list if i!=item]\n",
    "    return res\n",
    "\n",
    "remove_item([1,1,1,2,3,4,5],1)"
   ]
  },
  {
   "cell_type": "markdown",
   "id": "ca51b761-acd2-419a-9707-54c2b167234d",
   "metadata": {},
   "source": [
    "16. Develop a program that generates a multiplication table for numbers from 1 to 5 using a nested `for` loop."
   ]
  },
  {
   "cell_type": "code",
   "execution_count": 22,
   "id": "33bf6e11-81cc-49d8-aa3d-ac67e49b81ff",
   "metadata": {},
   "outputs": [
    {
     "name": "stdout",
     "output_type": "stream",
     "text": [
      "1 * 1 = 1     2 * 1 = 2     3 * 1 = 3     4 * 1 = 4     5 * 1 = 5     \n",
      "1 * 2 = 2     2 * 2 = 4     3 * 2 = 6     4 * 2 = 8     5 * 2 = 10     \n",
      "1 * 3 = 3     2 * 3 = 6     3 * 3 = 9     4 * 3 = 12     5 * 3 = 15     \n",
      "1 * 4 = 4     2 * 4 = 8     3 * 4 = 12     4 * 4 = 16     5 * 4 = 20     \n",
      "1 * 5 = 5     2 * 5 = 10     3 * 5 = 15     4 * 5 = 20     5 * 5 = 25     \n",
      "1 * 6 = 6     2 * 6 = 12     3 * 6 = 18     4 * 6 = 24     5 * 6 = 30     \n",
      "1 * 7 = 7     2 * 7 = 14     3 * 7 = 21     4 * 7 = 28     5 * 7 = 35     \n",
      "1 * 8 = 8     2 * 8 = 16     3 * 8 = 24     4 * 8 = 32     5 * 8 = 40     \n",
      "1 * 9 = 9     2 * 9 = 18     3 * 9 = 27     4 * 9 = 36     5 * 9 = 45     \n",
      "1 * 10 = 10     2 * 10 = 20     3 * 10 = 30     4 * 10 = 40     5 * 10 = 50     \n"
     ]
    }
   ],
   "source": [
    "for i in range(1,11):\n",
    "    for j in range(1,6):\n",
    "        print(j,'*', i,'=',i*j,end='     ')\n",
    "    print()\n",
    "        \n",
    "        "
   ]
  },
  {
   "cell_type": "markdown",
   "id": "ad999376-4672-4660-b8b4-73eba38ead14",
   "metadata": {},
   "source": [
    "17. Write a program that converts a list of Fahrenheit temperatures to Celsius using a `for` loop."
   ]
  },
  {
   "cell_type": "code",
   "execution_count": 23,
   "id": "5eb923b6-42ef-4b92-bc93-30ff1275d269",
   "metadata": {},
   "outputs": [
    {
     "name": "stdout",
     "output_type": "stream",
     "text": [
      "[32.22222222222222, 37.77777777777778, 48.888888888888886, 60.0]\n"
     ]
    }
   ],
   "source": [
    "listF=[90,100,120,140]\n",
    "listC=[]\n",
    "for i in listF:\n",
    "    listC.append(((i-32)*5)/9)\n",
    "print(listC)\n"
   ]
  },
  {
   "cell_type": "markdown",
   "id": "38d44054-f04c-4dea-bf2d-31e192fa63d9",
   "metadata": {},
   "source": [
    "18. Create a program to print the common elements from two lists using a `for` loop."
   ]
  },
  {
   "cell_type": "code",
   "execution_count": 24,
   "id": "9ba77572-df36-40b2-926a-76fc1a39a1af",
   "metadata": {},
   "outputs": [
    {
     "name": "stdout",
     "output_type": "stream",
     "text": [
      "[1, 'uk']\n"
     ]
    }
   ],
   "source": [
    "list1=[1,2,3,'mk','uk','pwskills']\n",
    "list2=[1,4,5,'sudhanshusir','uk','pw']\n",
    "common_list=[]\n",
    "\n",
    "for i in list1:\n",
    "    if i in list2:\n",
    "        common_list.append(i)\n",
    "print(common_list)"
   ]
  },
  {
   "cell_type": "markdown",
   "id": "cb0d9d71-9bc8-4623-acbd-2c5d2fe30d3b",
   "metadata": {},
   "source": [
    "19. Develop a program that prints the pattern of right-angled triangles using a `for` loop. Use ‘*’ to draw the\n",
    "pattern"
   ]
  },
  {
   "cell_type": "code",
   "execution_count": 29,
   "id": "ffb41561-d6fa-42a7-8f62-29ae2b1ee2d6",
   "metadata": {},
   "outputs": [
    {
     "name": "stdout",
     "output_type": "stream",
     "text": [
      "\n",
      "* \n",
      "* * \n",
      "* * * \n",
      "* * * * \n",
      "* * * * * \n"
     ]
    }
   ],
   "source": [
    "for i in range(6):\n",
    "    for j in range(i):\n",
    "        print('*',end=' ')\n",
    "    print()"
   ]
  },
  {
   "cell_type": "markdown",
   "id": "419b5899-aa6d-4bb3-b902-e7b1746d4f8a",
   "metadata": {},
   "source": [
    "20. Write a program to find the greatest common divisor (GCD) of two numbers using a `for` loop."
   ]
  },
  {
   "cell_type": "code",
   "execution_count": 32,
   "id": "81a31c00-73b8-40de-96cd-57620b084059",
   "metadata": {},
   "outputs": [
    {
     "name": "stdin",
     "output_type": "stream",
     "text": [
      "enter a number 1 = 28\n",
      "enter a number 2 = 70\n"
     ]
    },
    {
     "name": "stdout",
     "output_type": "stream",
     "text": [
      "14\n"
     ]
    }
   ],
   "source": [
    "number1=int(input('enter a number 1 ='))\n",
    "number2=int(input('enter a number 2 ='))\n",
    "lis=[]\n",
    "\n",
    "for i in range(1,number1+number2):\n",
    "    if number1%i==0 and number2%i==0:\n",
    "        lis.append(i)\n",
    "print(max(lis))"
   ]
  },
  {
   "cell_type": "markdown",
   "id": "a433ec0c-8110-446e-bd0d-950229f86edb",
   "metadata": {},
   "source": [
    "21. Create a program that calculates the sum of the digits of numbers in a list using a list comprehension."
   ]
  },
  {
   "cell_type": "code",
   "execution_count": 42,
   "id": "8a3f1865-5068-48f8-b66d-bee4b3af33ac",
   "metadata": {},
   "outputs": [
    {
     "data": {
      "text/plain": [
       "[3, 5, 15, 6, 9]"
      ]
     },
     "execution_count": 42,
     "metadata": {},
     "output_type": "execute_result"
    }
   ],
   "source": [
    "lis=[12,32,78,15,45]\n",
    "\n",
    "list(map(lambda a : sum(int(b) for b in str(a)),lis))"
   ]
  },
  {
   "cell_type": "markdown",
   "id": "a04788cc-596c-4170-b91f-d67ea1c88d8e",
   "metadata": {},
   "source": [
    "22. Write a program to find the prime factors of a given number using a `for` loop and list comprehension."
   ]
  },
  {
   "cell_type": "code",
   "execution_count": 43,
   "id": "35e536c1-f89b-4cd4-8568-c832978d3323",
   "metadata": {},
   "outputs": [
    {
     "ename": "SyntaxError",
     "evalue": "invalid syntax (1106501443.py, line 1)",
     "output_type": "error",
     "traceback": [
      "\u001b[0;36m  Cell \u001b[0;32mIn[43], line 1\u001b[0;36m\u001b[0m\n\u001b[0;31m    [for]\u001b[0m\n\u001b[0m     ^\u001b[0m\n\u001b[0;31mSyntaxError\u001b[0m\u001b[0;31m:\u001b[0m invalid syntax\n"
     ]
    }
   ],
   "source": [
    "[for]"
   ]
  },
  {
   "cell_type": "markdown",
   "id": "991d427b-2739-431d-b74d-276d100b30bf",
   "metadata": {},
   "source": [
    "23. Develop a program that extracts unique elements from a list and stores them in a new list using a list\n",
    "comprehension."
   ]
  },
  {
   "cell_type": "code",
   "execution_count": 51,
   "id": "89c6797b-90bd-4823-90f9-991d984826e7",
   "metadata": {},
   "outputs": [
    {
     "data": {
      "text/plain": [
       "[1, 2, 3, 4, 5]"
      ]
     },
     "execution_count": 51,
     "metadata": {},
     "output_type": "execute_result"
    }
   ],
   "source": [
    "from functools import reduce\n",
    "\n",
    "list1=[1,2,2,3,4,4,5]\n",
    "reduce(lambda re, x: re+[x] if x not in re else re, list1, [])\n",
    "\n"
   ]
  },
  {
   "cell_type": "markdown",
   "id": "6d28afeb-63a6-4dc6-ad27-77e18d003036",
   "metadata": {},
   "source": [
    "24. Create a program that generates a list of all palindromic numbers up to a specified limit using a list\n",
    "comprehension."
   ]
  },
  {
   "cell_type": "code",
   "execution_count": 7,
   "id": "1645448a-8445-41c4-9910-77746aeb548a",
   "metadata": {},
   "outputs": [
    {
     "data": {
      "text/plain": [
       "[2002, 2112, 2222, 2332, 2442, 2552, 2662, 2772, 2882, 2992]"
      ]
     },
     "execution_count": 7,
     "metadata": {},
     "output_type": "execute_result"
    }
   ],
   "source": [
    "[x for x in range(2000,3000) if str(x)==str(x)[::-1]]"
   ]
  },
  {
   "cell_type": "markdown",
   "id": "733ea903-3721-42b2-b018-cf8dd35287a8",
   "metadata": {},
   "source": [
    "25. Write a program to flatten a nested list using list comprehension."
   ]
  },
  {
   "cell_type": "code",
   "execution_count": 18,
   "id": "d8c8eeba-7dc2-4254-8e8a-a11aa94a4a78",
   "metadata": {},
   "outputs": [
    {
     "data": {
      "text/plain": [
       "[1, 2, 3, 4, 5, 6]"
      ]
     },
     "execution_count": 18,
     "metadata": {},
     "output_type": "execute_result"
    }
   ],
   "source": [
    "lis=[[1],[2,3,4],[5,6]]\n",
    "[num for sublist in lis for num in sublist]"
   ]
  },
  {
   "cell_type": "markdown",
   "id": "06c12167-48ce-4f2c-a611-55832c1863cc",
   "metadata": {},
   "source": [
    "26. Develop a program that computes the sum of even and odd numbers in a list separately using list\n",
    "comprehension."
   ]
  },
  {
   "cell_type": "code",
   "execution_count": 23,
   "id": "2e574e20-0312-4fcc-bfa9-4cdc9746f6c7",
   "metadata": {},
   "outputs": [
    {
     "name": "stdout",
     "output_type": "stream",
     "text": [
      "sum of even number = 20\n",
      "sum of odd number = 25\n"
     ]
    }
   ],
   "source": [
    "lis=[1,2,3,4,5,6,7,8,9]\n",
    "even=[x for x in lis if x%2==0]\n",
    "odd=[y for y in lis if y%2!=0]\n",
    "print('sum of even number =',sum(even))\n",
    "print('sum of odd number =',sum(odd))"
   ]
  },
  {
   "cell_type": "markdown",
   "id": "bad2e1b7-28ce-4933-896b-daf7f7edc106",
   "metadata": {},
   "source": [
    "27. Create a program that generates a list of squares of odd numbers between 1 and 10 using list\n",
    "comprehension."
   ]
  },
  {
   "cell_type": "code",
   "execution_count": 24,
   "id": "ff5e52d3-4e00-48f7-9d1d-6cfc21f90e14",
   "metadata": {},
   "outputs": [
    {
     "data": {
      "text/plain": [
       "[1, 9, 25, 49, 81]"
      ]
     },
     "execution_count": 24,
     "metadata": {},
     "output_type": "execute_result"
    }
   ],
   "source": [
    "[x**2 for x in range(1,11) if x%2!=0]"
   ]
  },
  {
   "cell_type": "markdown",
   "id": "8cd36b32-b68a-4af1-bc42-6e0adea765f7",
   "metadata": {},
   "source": [
    "28. Write a program that combines two lists into a dictionary using list comprehension."
   ]
  },
  {
   "cell_type": "code",
   "execution_count": 30,
   "id": "f659ac52-a0f4-49d6-9095-8c04e5ce850b",
   "metadata": {},
   "outputs": [
    {
     "data": {
      "text/plain": [
       "{'name': 'mayur', 'age': 22, 'course': 'python'}"
      ]
     },
     "execution_count": 30,
     "metadata": {},
     "output_type": "execute_result"
    }
   ],
   "source": [
    "lis1=['name','age','course']\n",
    "lis2=['mayur',22,'python']\n",
    "dict(map(lambda a,b:(a,b),lis1,lis2))"
   ]
  },
  {
   "cell_type": "markdown",
   "id": "5646f8fb-54b3-4619-a747-f33e740d0e4e",
   "metadata": {},
   "source": [
    "29. Develop a program that extracts the vowels from a string and stores them in a list using list comprehension."
   ]
  },
  {
   "cell_type": "code",
   "execution_count": 32,
   "id": "dba27a50-404e-491a-9643-57f1c1d37a8a",
   "metadata": {},
   "outputs": [
    {
     "data": {
      "text/plain": [
       "['a', 'u']"
      ]
     },
     "execution_count": 32,
     "metadata": {},
     "output_type": "execute_result"
    }
   ],
   "source": [
    "string='MAYUR'\n",
    "vowel=['a','e','i','o','u']\n",
    "[x for x in string.lower() if x in vowel]"
   ]
  },
  {
   "cell_type": "markdown",
   "id": "e2fbfd3f-ab69-41a8-a380-deec2850bbca",
   "metadata": {},
   "source": [
    "30. Create a program that removes all non-numeric characters from a list of strings using list comprehension."
   ]
  },
  {
   "cell_type": "code",
   "execution_count": 43,
   "id": "a77302e9-02e1-416b-8430-778304162447",
   "metadata": {},
   "outputs": [
    {
     "data": {
      "text/plain": [
       "[1, 2, 56]"
      ]
     },
     "execution_count": 43,
     "metadata": {},
     "output_type": "execute_result"
    }
   ],
   "source": [
    "lis=[1,2,'mk/','mkmer',56]\n",
    "[x for x in lis if str(x).isnumeric()]"
   ]
  },
  {
   "cell_type": "markdown",
   "id": "ca624f9e-168c-493c-9f41-ce8f49376077",
   "metadata": {},
   "source": [
    "31. Write a program to generate a list of prime numbers using the Sieve of Eratosthenes algorithm and list\n",
    "comprehension."
   ]
  },
  {
   "cell_type": "code",
   "execution_count": 1,
   "id": "a0daa936-c5df-4556-a2a0-aa7362efc527",
   "metadata": {},
   "outputs": [
    {
     "name": "stdin",
     "output_type": "stream",
     "text": [
      "Enter an upper limit to find prime numbers up to:  15\n"
     ]
    },
    {
     "name": "stdout",
     "output_type": "stream",
     "text": [
      "Prime numbers up to 15 are:\n",
      "[2, 3, 5, 7, 11, 13]\n"
     ]
    }
   ],
   "source": [
    "def sieve_eratosthenes(n):\n",
    "    sieve = [True] * (n + 1)\n",
    "    sieve[0] = sieve[1] = False\n",
    "\n",
    "    for current in range(2, int(n**0.5) + 1):\n",
    "        if sieve[current]:\n",
    "            for multiple in range(current**2, n + 1, current):\n",
    "                sieve[multiple] = False\n",
    "\n",
    "    primes = [num for num in range(2, n + 1) if sieve[num]]\n",
    "    return primes\n",
    "\n",
    "if __name__ == \"__main__\":\n",
    "    try:\n",
    "        limit = int(input(\"Enter an upper limit to find prime numbers up to: \"))\n",
    "        if limit < 2:\n",
    "            print(\"There are no prime numbers below 2.\")\n",
    "        else:\n",
    "            prime_list = sieve_eratosthenes(limit)\n",
    "            print(\"Prime numbers up to\", limit, \"are:\")\n",
    "            print(prime_list)\n",
    "    except ValueError:\n",
    "        print(\"Invalid input. Please enter a positive integer as the upper limit.\")\n"
   ]
  },
  {
   "cell_type": "markdown",
   "id": "d99990ba-3fb6-4e55-95c2-5a7a34de2f6e",
   "metadata": {},
   "source": [
    "32. Create a program that generates a list of all Pythagorean triplets up to a specified limit using list\n",
    "comprehension."
   ]
  },
  {
   "cell_type": "code",
   "execution_count": 32,
   "id": "5706fc8a-6a1a-4881-90e3-4365a819daca",
   "metadata": {},
   "outputs": [
    {
     "data": {
      "text/plain": [
       "[(3, 4, 5), (5, 12, 13), (6, 8, 10), (8, 15, 17), (9, 12, 15), (12, 16, 20)]"
      ]
     },
     "execution_count": 32,
     "metadata": {},
     "output_type": "execute_result"
    }
   ],
   "source": [
    "def generate_pythagorean_triplets(limit):\n",
    "    triplets = [(a, b, c) for a in range(1, limit+1) for b in range(a, limit+1) for c in range(b, limit+1) if a**2 + b**2 == c**2]\n",
    "    return triplets\n",
    "\n",
    "generate_pythagorean_triplets(20)"
   ]
  },
  {
   "cell_type": "markdown",
   "id": "539de50c-4743-4d39-a176-c6ec055ca29b",
   "metadata": {},
   "source": [
    "33. Develop a program that generates a list of all possible combinations of two lists using list comprehension."
   ]
  },
  {
   "cell_type": "code",
   "execution_count": 33,
   "id": "7c5b88f9-dfd7-4f2e-8baf-ba5703cecd29",
   "metadata": {},
   "outputs": [
    {
     "data": {
      "text/plain": [
       "[('m', 'h'),\n",
       " ('m', 'e'),\n",
       " ('m', 'l'),\n",
       " ('m', 'l'),\n",
       " ('m', 'o'),\n",
       " ('a', 'h'),\n",
       " ('a', 'e'),\n",
       " ('a', 'l'),\n",
       " ('a', 'l'),\n",
       " ('a', 'o'),\n",
       " ('y', 'h'),\n",
       " ('y', 'e'),\n",
       " ('y', 'l'),\n",
       " ('y', 'l'),\n",
       " ('y', 'o'),\n",
       " ('u', 'h'),\n",
       " ('u', 'e'),\n",
       " ('u', 'l'),\n",
       " ('u', 'l'),\n",
       " ('u', 'o'),\n",
       " ('r', 'h'),\n",
       " ('r', 'e'),\n",
       " ('r', 'l'),\n",
       " ('r', 'l'),\n",
       " ('r', 'o')]"
      ]
     },
     "execution_count": 33,
     "metadata": {},
     "output_type": "execute_result"
    }
   ],
   "source": [
    "from itertools import product\n",
    "\n",
    "def possible_combination(string1,string2):\n",
    "    output=list(product(string1,string2))\n",
    "    return output\n",
    "\n",
    "possible_combination('mayur','hello')"
   ]
  },
  {
   "cell_type": "markdown",
   "id": "5ccd2ddd-e02e-409c-960d-990744ae436a",
   "metadata": {},
   "source": [
    "34. Write a program that calculates the mean, median, and mode of a list of numbers using list\n",
    "comprehension."
   ]
  },
  {
   "cell_type": "code",
   "execution_count": 13,
   "id": "1609b7cd-741b-4cae-b6d1-fc48353c0392",
   "metadata": {},
   "outputs": [
    {
     "name": "stdout",
     "output_type": "stream",
     "text": [
      "Mean: 4.6\n",
      "Median: 4.5\n",
      "Mode: [4, 5]\n"
     ]
    }
   ],
   "source": [
    "from collections import Counter\n",
    "import statistics\n",
    "\n",
    "numbers = [4, 2, 9, 1, 5, 4, 7, 3, 5, 6]\n",
    "\n",
    "# Calculate the mean using list comprehension\n",
    "mean = sum(numbers) / len(numbers)\n",
    "\n",
    "# Calculate the median using list comprehension\n",
    "sorted_numbers = sorted(numbers)\n",
    "n = len(sorted_numbers)\n",
    "median = (sorted_numbers[n // 2] + sorted_numbers[(n - 1) // 2]) / 2\n",
    "\n",
    "# Calculate the mode using list comprehension and Counter\n",
    "number_counts = Counter(numbers)\n",
    "mode = [number for number, count in number_counts.items() if count == max(number_counts.values())]\n",
    "\n",
    "print(f\"Mean: {mean}\")\n",
    "print(f\"Median: {median}\")\n",
    "print(f\"Mode: {mode}\")\n"
   ]
  },
  {
   "cell_type": "markdown",
   "id": "45a431f4-5ab8-4919-986a-a87dcbad22ff",
   "metadata": {},
   "source": [
    "35. Create a program that generates Pascal's triangle up to a specified number of rows using list\n",
    "comprehension."
   ]
  },
  {
   "cell_type": "code",
   "execution_count": 18,
   "id": "5c53dad9-16c2-4e2e-9e26-953607c37572",
   "metadata": {},
   "outputs": [
    {
     "name": "stdout",
     "output_type": "stream",
     "text": [
      "    1    \n",
      "   1 1   \n",
      "  1 2 1  \n",
      " 1 3 3 1 \n",
      "1 4 6 4 1\n"
     ]
    }
   ],
   "source": [
    "def generate_pascals_triangle(n):\n",
    "    triangle = []\n",
    "    for i in range(n):\n",
    "        if i == 0:\n",
    "            row = [1]\n",
    "        else:\n",
    "            previous_row = triangle[i - 1]\n",
    "            row = [1]\n",
    "            for j in range(1, i):\n",
    "                row.append(previous_row[j - 1] + previous_row[j])\n",
    "            row.append(1)\n",
    "        triangle.append(row)\n",
    "    return triangle\n",
    "\n",
    "def print_pascals_triangle(triangle):\n",
    "    max_width = len(\" \".join(map(str, triangle[-1])))\n",
    "    for row in triangle:\n",
    "        row_str = \" \".join(map(str, row))\n",
    "        print(row_str.center(max_width))\n",
    "\n",
    "n = 5  \n",
    "pascals_triangle = generate_pascals_triangle(n)\n",
    "print_pascals_triangle(pascals_triangle)\n"
   ]
  },
  {
   "cell_type": "markdown",
   "id": "866064d8-7ae6-45d5-b391-efcc083432a3",
   "metadata": {},
   "source": [
    "36. Develop a program that calculates the sum of the digits of a factorial of numbers from 1 to 5 using list\n",
    "comprehension."
   ]
  },
  {
   "cell_type": "code",
   "execution_count": 25,
   "id": "d4620b11-6b4e-43da-b3f1-c9ad200c7c7d",
   "metadata": {},
   "outputs": [
    {
     "name": "stdout",
     "output_type": "stream",
     "text": [
      "[1, 2, 6, 6, 3]\n"
     ]
    }
   ],
   "source": [
    "def factorial(n):\n",
    "    if n==0:\n",
    "        return 1\n",
    "    else:\n",
    "        return n*factorial(n-1)\n",
    "    \n",
    "factorial_summ=[sum(int(digit) for digit in str(factorial(n))) for n in range(1,6)]\n",
    "\n",
    "print(factorial_summ)"
   ]
  },
  {
   "cell_type": "markdown",
   "id": "d44bd12f-7486-4f5e-a0ae-b27a5d7b4f56",
   "metadata": {},
   "source": [
    "37. Write a program that finds the longest word in a sentence using list comprehension."
   ]
  },
  {
   "cell_type": "code",
   "execution_count": 27,
   "id": "14dbf89e-a5f1-4d27-a5cf-0e7aba719a0d",
   "metadata": {},
   "outputs": [
    {
     "name": "stdout",
     "output_type": "stream",
     "text": [
      "sentence\n"
     ]
    }
   ],
   "source": [
    "sentence='this is sample sentence to find longest word'\n",
    "\n",
    "word=sentence.split()\n",
    "longest_word = max(word, key=lambda word: len(word))\n",
    "print(longest_word)"
   ]
  },
  {
   "cell_type": "markdown",
   "id": "bebf29a2-1bf4-467f-aabf-26cacc2a93e3",
   "metadata": {},
   "source": [
    "38. Create a program that filters a list of strings to include only those with more than three vowels using list\n",
    "comprehension."
   ]
  },
  {
   "cell_type": "code",
   "execution_count": 30,
   "id": "6459a624-5cad-4c32-ac34-c14988f1a598",
   "metadata": {},
   "outputs": [
    {
     "name": "stdout",
     "output_type": "stream",
     "text": [
      "Strings with more than three vowels:\n",
      "bananaa\n"
     ]
    }
   ],
   "source": [
    "def count_vowels(s):\n",
    "    vowels = \"aeiouAEIOU\"\n",
    "    return sum(1 for char in s if char in vowels)\n",
    "\n",
    "strings = [\"apple\", \"bananaa\", \"cherry\", \"date\", \"elephant\", \"fig\", \"grape\"]\n",
    "\n",
    "filtered_strings = [string for string in strings if count_vowels(string) > 3]\n",
    "\n",
    "print(\"Strings with more than three vowels:\")\n",
    "for string in filtered_strings:\n",
    "    print(string)\n"
   ]
  },
  {
   "cell_type": "markdown",
   "id": "84bf3dc9-67ce-44a7-8071-0ce70ba26c7c",
   "metadata": {},
   "source": [
    "39. Develop a program that calculates the sum of the digits of numbers from 1 to 1000 using list\n",
    "comprehension."
   ]
  },
  {
   "cell_type": "code",
   "execution_count": 33,
   "id": "06f9604e-dfa4-43a2-b72a-3af64ad661a1",
   "metadata": {},
   "outputs": [
    {
     "name": "stdout",
     "output_type": "stream",
     "text": [
      "13501\n"
     ]
    }
   ],
   "source": [
    "y=[sum(int(digit) for digit in str(num)) for num in range(1,1001)]\n",
    "print(sum(y))"
   ]
  },
  {
   "cell_type": "markdown",
   "id": "4a0d155c-9c0e-4cce-90e7-ce34794276f2",
   "metadata": {},
   "source": [
    "40. Write a program that generates a list of prime palindromic numbers using list comprehension."
   ]
  },
  {
   "cell_type": "code",
   "execution_count": 34,
   "id": "35107d07-80d5-4c05-b1de-a3d90817971a",
   "metadata": {},
   "outputs": [
    {
     "name": "stdout",
     "output_type": "stream",
     "text": [
      "Prime Palindromic Numbers:\n",
      "[2, 3, 5, 7, 11, 101, 131, 151, 181, 191, 313, 353, 373, 383, 727, 757, 787, 797, 919, 929]\n"
     ]
    }
   ],
   "source": [
    "\n",
    "def is_prime(n):\n",
    "    if n <= 1:\n",
    "        return False\n",
    "    if n == 2:\n",
    "        return True\n",
    "    if n % 2 == 0:\n",
    "        return False\n",
    "    for i in range(3, int(n**0.5) + 1, 2):\n",
    "        if n % i == 0:\n",
    "            return False\n",
    "    return True\n",
    "\n",
    "\n",
    "prime_palindromic_numbers = [n for n in range(2, 1000) if is_prime(n) and str(n) == str(n)[::-1]]\n",
    "\n",
    "\n",
    "print(\"Prime Palindromic Numbers:\")\n",
    "print(prime_palindromic_numbers)\n"
   ]
  },
  {
   "cell_type": "code",
   "execution_count": null,
   "id": "f6d7264c-8404-4b1d-bae3-04ba24bac09b",
   "metadata": {},
   "outputs": [],
   "source": []
  }
 ],
 "metadata": {
  "kernelspec": {
   "display_name": "Python 3 (ipykernel)",
   "language": "python",
   "name": "python3"
  },
  "language_info": {
   "codemirror_mode": {
    "name": "ipython",
    "version": 3
   },
   "file_extension": ".py",
   "mimetype": "text/x-python",
   "name": "python",
   "nbconvert_exporter": "python",
   "pygments_lexer": "ipython3",
   "version": "3.10.8"
  }
 },
 "nbformat": 4,
 "nbformat_minor": 5
}
